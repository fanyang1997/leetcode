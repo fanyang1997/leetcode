{
 "cells": [
  {
   "cell_type": "code",
   "execution_count": 3,
   "id": "august-grade",
   "metadata": {},
   "outputs": [],
   "source": [
    "class TreeNode:\n",
    "    def __init__(self, val=0, left=None, right=None):\n",
    "        self.val = val\n",
    "        self.left = left\n",
    "        self.right = right"
   ]
  },
  {
   "cell_type": "code",
   "execution_count": 4,
   "id": "charming-newton",
   "metadata": {},
   "outputs": [],
   "source": [
    "# TreeNode = tn\n",
    "tn1 = TreeNode(1)\n",
    "tn2 = TreeNode(2)\n",
    "tn3 = TreeNode(3)\n"
   ]
  },
  {
   "cell_type": "code",
   "execution_count": 8,
   "id": "disciplinary-pressure",
   "metadata": {},
   "outputs": [],
   "source": [
    "tn1.left = tn2\n",
    "tn1.right = tn3"
   ]
  },
  {
   "cell_type": "markdown",
   "id": "occasional-scene",
   "metadata": {},
   "source": [
    "### 二叉树遍历"
   ]
  },
  {
   "cell_type": "code",
   "execution_count": 23,
   "id": "cheap-steel",
   "metadata": {},
   "outputs": [],
   "source": [
    "def pre_order(root):\n",
    "    if not root:\n",
    "        return 0\n",
    "    print(root.val)\n",
    "    pre_order(root.left)\n",
    "    pre_order(root.right)"
   ]
  },
  {
   "cell_type": "code",
   "execution_count": 27,
   "id": "turkish-pharmacy",
   "metadata": {},
   "outputs": [],
   "source": [
    "def order(root):\n",
    "    if not root:\n",
    "        return 0\n",
    "    order(root.left)\n",
    "    print(root.val)\n",
    "    order(root.right)"
   ]
  },
  {
   "cell_type": "code",
   "execution_count": 25,
   "id": "opening-courage",
   "metadata": {},
   "outputs": [],
   "source": [
    "def post_order(root):\n",
    "    if not root:\n",
    "        return 0\n",
    "    pre_order(root.left)\n",
    "    pre_order(root.right)\n",
    "    print(root.val)"
   ]
  },
  {
   "cell_type": "code",
   "execution_count": 31,
   "id": "adopted-outdoors",
   "metadata": {},
   "outputs": [
    {
     "ename": "SyntaxError",
     "evalue": "unexpected EOF while parsing (<ipython-input-31-fd95ab11dff1>, line 2)",
     "output_type": "error",
     "traceback": [
      "\u001b[0;36m  File \u001b[0;32m\"<ipython-input-31-fd95ab11dff1>\"\u001b[0;36m, line \u001b[0;32m2\u001b[0m\n\u001b[0;31m    \u001b[0m\n\u001b[0m    ^\u001b[0m\n\u001b[0;31mSyntaxError\u001b[0m\u001b[0;31m:\u001b[0m unexpected EOF while parsing\n"
     ]
    }
   ],
   "source": [
    "def DFS(root: TreeNode):\n",
    "    "
   ]
  },
  {
   "cell_type": "code",
   "execution_count": 58,
   "id": "diverse-professor",
   "metadata": {},
   "outputs": [],
   "source": [
    "def BFS(root):\n",
    "    if not root:\n",
    "        return 0\n",
    "    queue, res = [root], 0\n",
    "    while queue:\n",
    "        tmp = []\n",
    "        for node in queue:\n",
    "            print(tmp)\n",
    "            if node.left: tmp.append(node.left.val)\n",
    "            print(tmp)\n",
    "            if node.right: tmp.append(node.right.val)\n",
    "        queue = tmp\n",
    "        res += 1\n",
    "    return res"
   ]
  },
  {
   "cell_type": "code",
   "execution_count": 59,
   "id": "liberal-crown",
   "metadata": {},
   "outputs": [
    {
     "name": "stdout",
     "output_type": "stream",
     "text": [
      "[]\n",
      "[2]\n",
      "[]\n"
     ]
    },
    {
     "ename": "AttributeError",
     "evalue": "'int' object has no attribute 'left'",
     "output_type": "error",
     "traceback": [
      "\u001b[0;31m---------------------------------------------------------------------------\u001b[0m",
      "\u001b[0;31mAttributeError\u001b[0m                            Traceback (most recent call last)",
      "\u001b[0;32m<ipython-input-59-f5de545d0049>\u001b[0m in \u001b[0;36m<module>\u001b[0;34m\u001b[0m\n\u001b[0;32m----> 1\u001b[0;31m \u001b[0mBFS\u001b[0m\u001b[0;34m(\u001b[0m\u001b[0mtn1\u001b[0m\u001b[0;34m)\u001b[0m\u001b[0;34m\u001b[0m\u001b[0;34m\u001b[0m\u001b[0m\n\u001b[0m",
      "\u001b[0;32m<ipython-input-58-2a7cb06d4118>\u001b[0m in \u001b[0;36mBFS\u001b[0;34m(root)\u001b[0m\n\u001b[1;32m      7\u001b[0m         \u001b[0;32mfor\u001b[0m \u001b[0mnode\u001b[0m \u001b[0;32min\u001b[0m \u001b[0mqueue\u001b[0m\u001b[0;34m:\u001b[0m\u001b[0;34m\u001b[0m\u001b[0;34m\u001b[0m\u001b[0m\n\u001b[1;32m      8\u001b[0m             \u001b[0mprint\u001b[0m\u001b[0;34m(\u001b[0m\u001b[0mtmp\u001b[0m\u001b[0;34m)\u001b[0m\u001b[0;34m\u001b[0m\u001b[0;34m\u001b[0m\u001b[0m\n\u001b[0;32m----> 9\u001b[0;31m             \u001b[0;32mif\u001b[0m \u001b[0mnode\u001b[0m\u001b[0;34m.\u001b[0m\u001b[0mleft\u001b[0m\u001b[0;34m:\u001b[0m \u001b[0mtmp\u001b[0m\u001b[0;34m.\u001b[0m\u001b[0mappend\u001b[0m\u001b[0;34m(\u001b[0m\u001b[0mnode\u001b[0m\u001b[0;34m.\u001b[0m\u001b[0mleft\u001b[0m\u001b[0;34m.\u001b[0m\u001b[0mval\u001b[0m\u001b[0;34m)\u001b[0m\u001b[0;34m\u001b[0m\u001b[0;34m\u001b[0m\u001b[0m\n\u001b[0m\u001b[1;32m     10\u001b[0m             \u001b[0mprint\u001b[0m\u001b[0;34m(\u001b[0m\u001b[0mtmp\u001b[0m\u001b[0;34m)\u001b[0m\u001b[0;34m\u001b[0m\u001b[0;34m\u001b[0m\u001b[0m\n\u001b[1;32m     11\u001b[0m             \u001b[0;32mif\u001b[0m \u001b[0mnode\u001b[0m\u001b[0;34m.\u001b[0m\u001b[0mright\u001b[0m\u001b[0;34m:\u001b[0m \u001b[0mtmp\u001b[0m\u001b[0;34m.\u001b[0m\u001b[0mappend\u001b[0m\u001b[0;34m(\u001b[0m\u001b[0mnode\u001b[0m\u001b[0;34m.\u001b[0m\u001b[0mright\u001b[0m\u001b[0;34m.\u001b[0m\u001b[0mval\u001b[0m\u001b[0;34m)\u001b[0m\u001b[0;34m\u001b[0m\u001b[0;34m\u001b[0m\u001b[0m\n",
      "\u001b[0;31mAttributeError\u001b[0m: 'int' object has no attribute 'left'"
     ]
    }
   ],
   "source": [
    "BFS(tn1)"
   ]
  },
  {
   "cell_type": "code",
   "execution_count": 52,
   "id": "challenging-language",
   "metadata": {},
   "outputs": [
    {
     "data": {
      "text/plain": [
       "<__main__.TreeNode at 0x10c354dc0>"
      ]
     },
     "execution_count": 52,
     "metadata": {},
     "output_type": "execute_result"
    }
   ],
   "source": [
    "tn1"
   ]
  },
  {
   "cell_type": "code",
   "execution_count": 24,
   "id": "searching-draft",
   "metadata": {},
   "outputs": [
    {
     "name": "stdout",
     "output_type": "stream",
     "text": [
      "1\n",
      "2\n",
      "3\n"
     ]
    }
   ],
   "source": [
    "pre_order(tn1)"
   ]
  },
  {
   "cell_type": "code",
   "execution_count": null,
   "id": "effective-puzzle",
   "metadata": {},
   "outputs": [],
   "source": []
  },
  {
   "cell_type": "code",
   "execution_count": 28,
   "id": "failing-pepper",
   "metadata": {},
   "outputs": [
    {
     "name": "stdout",
     "output_type": "stream",
     "text": [
      "2\n",
      "1\n",
      "3\n"
     ]
    }
   ],
   "source": [
    "order(tn1)"
   ]
  },
  {
   "cell_type": "code",
   "execution_count": 26,
   "id": "optional-surgeon",
   "metadata": {},
   "outputs": [
    {
     "name": "stdout",
     "output_type": "stream",
     "text": [
      "2\n",
      "3\n",
      "1\n"
     ]
    }
   ],
   "source": [
    "post_order(tn1)"
   ]
  },
  {
   "cell_type": "markdown",
   "id": "laden-hindu",
   "metadata": {},
   "source": [
    "### 剑指 Offer 55 - I. 二叉树的深度\n",
    "https://leetcode-cn.com/problems/er-cha-shu-de-shen-du-lcof/\n",
    "\n",
    "Input: `[3,9,20,null,null,15,7]`\n",
    "\n",
    "Output: `3`"
   ]
  },
  {
   "cell_type": "markdown",
   "id": "acting-intellectual",
   "metadata": {},
   "source": [
    "DFS"
   ]
  },
  {
   "cell_type": "code",
   "execution_count": 9,
   "id": "broad-presentation",
   "metadata": {},
   "outputs": [],
   "source": [
    "def maxDepth_1(root):\n",
    "    if not root:\n",
    "        return 0\n",
    "    return max(maxDepth(root.left), maxDepth(root.right)) + 1"
   ]
  },
  {
   "cell_type": "code",
   "execution_count": 10,
   "id": "engaged-glasgow",
   "metadata": {},
   "outputs": [
    {
     "data": {
      "text/plain": [
       "2"
      ]
     },
     "execution_count": 10,
     "metadata": {},
     "output_type": "execute_result"
    }
   ],
   "source": [
    "maxDepth_1(tn1)"
   ]
  },
  {
   "cell_type": "markdown",
   "id": "excessive-agent",
   "metadata": {},
   "source": [
    "BFS"
   ]
  },
  {
   "cell_type": "code",
   "execution_count": 17,
   "id": "cardiovascular-accordance",
   "metadata": {},
   "outputs": [],
   "source": [
    "def maxDepth_2(root):\n",
    "    if not root:\n",
    "        return 0\n",
    "    queue, res = [root], 0\n",
    "    while queue:\n",
    "        tmp = []\n",
    "        for node in queue:\n",
    "            if node.left: tmp.append(node.left)\n",
    "            if node.right: tmp.append(node.right)\n",
    "        queue = tmp\n",
    "        res += 1\n",
    "    return res"
   ]
  },
  {
   "cell_type": "code",
   "execution_count": 18,
   "id": "crude-violation",
   "metadata": {},
   "outputs": [
    {
     "data": {
      "text/plain": [
       "2"
      ]
     },
     "execution_count": 18,
     "metadata": {},
     "output_type": "execute_result"
    }
   ],
   "source": [
    "maxDepth_2(tn1)"
   ]
  },
  {
   "cell_type": "code",
   "execution_count": null,
   "id": "anonymous-accordance",
   "metadata": {},
   "outputs": [],
   "source": [
    "queue = [tn1]\n",
    "tm"
   ]
  },
  {
   "cell_type": "markdown",
   "id": "olive-frequency",
   "metadata": {},
   "source": [
    "### 二叉树中的节点个数\n"
   ]
  },
  {
   "cell_type": "code",
   "execution_count": 60,
   "id": "outside-foundation",
   "metadata": {},
   "outputs": [],
   "source": [
    "def getNodeNum(root):\n",
    "    if not root:\n",
    "        return 0\n",
    "    return getNodeNum(root.left) + getNodeNum(root.right) + 1"
   ]
  },
  {
   "cell_type": "code",
   "execution_count": 61,
   "id": "informed-calibration",
   "metadata": {},
   "outputs": [
    {
     "data": {
      "text/plain": [
       "3"
      ]
     },
     "execution_count": 61,
     "metadata": {},
     "output_type": "execute_result"
    }
   ],
   "source": [
    "getNodeNum(tn1)"
   ]
  },
  {
   "cell_type": "markdown",
   "id": "popular-lindsay",
   "metadata": {},
   "source": [
    "### 判断两个二叉树是否相同\n"
   ]
  },
  {
   "cell_type": "code",
   "execution_count": 62,
   "id": "stupid-deposit",
   "metadata": {},
   "outputs": [],
   "source": [
    "def isSameTree(p, q):\n",
    "    if p == None and q == None:\n",
    "        return True\n",
    "    if p == None or q == None:\n",
    "        return False\n",
    "    if p.val == q.val:\n",
    "        return isSameTree(p.left, q.left) and isSameTree(p.right, q.right)\n",
    "    return False"
   ]
  },
  {
   "cell_type": "markdown",
   "id": "early-procedure",
   "metadata": {},
   "source": [
    "### 反转二叉树"
   ]
  },
  {
   "cell_type": "code",
   "execution_count": 64,
   "id": "sufficient-potential",
   "metadata": {},
   "outputs": [],
   "source": [
    "def invertTree(root):\n",
    "    if not root:\n",
    "        return root\n",
    "    \n",
    "    root.left = invertTree(root.right)\n",
    "    root.right = invertTree(root.left)\n",
    "    return root"
   ]
  },
  {
   "cell_type": "code",
   "execution_count": 65,
   "id": "decent-system",
   "metadata": {},
   "outputs": [
    {
     "data": {
      "text/plain": [
       "<__main__.TreeNode at 0x10c354dc0>"
      ]
     },
     "execution_count": 65,
     "metadata": {},
     "output_type": "execute_result"
    }
   ],
   "source": [
    "invertTree(tn1)"
   ]
  },
  {
   "cell_type": "code",
   "execution_count": 67,
   "id": "introductory-mainstream",
   "metadata": {},
   "outputs": [
    {
     "data": {
      "text/plain": [
       "3"
      ]
     },
     "execution_count": 67,
     "metadata": {},
     "output_type": "execute_result"
    }
   ],
   "source": [
    "tn1.left.val"
   ]
  },
  {
   "cell_type": "code",
   "execution_count": 68,
   "id": "violent-green",
   "metadata": {},
   "outputs": [
    {
     "data": {
      "text/plain": [
       "3"
      ]
     },
     "execution_count": 68,
     "metadata": {},
     "output_type": "execute_result"
    }
   ],
   "source": [
    "tn1.right.val"
   ]
  },
  {
   "cell_type": "code",
   "execution_count": null,
   "id": "front-shore",
   "metadata": {},
   "outputs": [],
   "source": []
  }
 ],
 "metadata": {
  "kernelspec": {
   "display_name": "py38_ml",
   "language": "python",
   "name": "py38_ml"
  },
  "language_info": {
   "codemirror_mode": {
    "name": "ipython",
    "version": 3
   },
   "file_extension": ".py",
   "mimetype": "text/x-python",
   "name": "python",
   "nbconvert_exporter": "python",
   "pygments_lexer": "ipython3",
   "version": "3.8.8"
  }
 },
 "nbformat": 4,
 "nbformat_minor": 5
}
